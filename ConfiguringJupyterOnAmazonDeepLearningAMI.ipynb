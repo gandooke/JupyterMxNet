{
 "cells": [
  {
   "cell_type": "markdown",
   "metadata": {},
   "source": [
    "# Configuring Jupyter On Amazon Deep Learning AMI\n",
    "\n",
    "Using this tutorial you will be able to install and run Jupyter using https on a Amazon Deep Learning AMI. AwS now also offers a Ubuntu version of the Deep Learning AMI, most of the following steps are compatible with both versions of the Deep Learning AMI."
   ]
  },
  {
   "cell_type": "markdown",
   "metadata": {},
   "source": [
    "### Launch an EC2 Instance With The Amazon Deep Learning AMI"
   ]
  },
  {
   "cell_type": "markdown",
   "metadata": {},
   "source": [
    "1. Launch an instance using the Amazon Deep Learning AMI using the AWS console:\n",
    "https://aws.amazon.com/marketplace/pp/B01M0AXXQB\n",
    "2. Navigate to the AWS Management Console:\n",
    "\n",
    "2. Or Launch the Amazon Deep Learning AMI from a CloudFormation Script:\n",
    "https://github.com/awslabs/deeplearning-cfn/blob/master/cfn-template/deeplearning.template\n",
    "\n",
    "3. Choose an instance type sutiable for deep learning. Common choices are GPU backed instances such as g2 and p2 instace types, both of which have dedicated GPU's. "
   ]
  },
  {
   "cell_type": "code",
   "execution_count": 5,
   "metadata": {
    "collapsed": false
   },
   "outputs": [
    {
     "data": {
      "text/html": [
       "<img src=\"https://s3-us-west-2.amazonaws.com/mxnetjupytersetup/Untitled.jpg\"/>"
      ],
      "text/plain": [
       "<IPython.core.display.Image object>"
      ]
     },
     "execution_count": 5,
     "metadata": {},
     "output_type": "execute_result"
    }
   ],
   "source": [
    "from IPython.display import Image\n",
    "from IPython.core.display import HTML \n",
    "Image(url=\"https://s3-us-west-2.amazonaws.com/mxnetjupytersetup/Untitled.jpg\")"
   ]
  },
  {
   "cell_type": "markdown",
   "metadata": {},
   "source": [
    "Next, we are going to create a security group. This security group contains some specific rules to allow you to access the Jupyter server from your browser with HTTP/HTTPS. A sample ruleset used for this tutorial is below. However, for a enterpise grade enviroment, you should probably secure the source ip's to only known and trusted ips."
   ]
  },
  {
   "cell_type": "code",
   "execution_count": 22,
   "metadata": {
    "collapsed": false
   },
   "outputs": [
    {
     "data": {
      "text/html": [
       "<table><tr><td><b>Type</b></td><td><b>Protocol</b></td><td><b>Port Range</b></td><td><b>Source</b></td></tr><tr><td>HTTPS</td><td>TCP</td><td>443</td><td>0.0.0.0/0</td></tr><tr><td>HTTP</td><td>TCP</td><td>80</td><td>0.0.0.0/0</td></tr><tr><td>SSH</td><td>TCP</td><td>22</td><td>0.0.0.0/0</td></tr><tr><td>Custom TCP Rule</td><td>TCP</td><td>8888</td><td>0.0.0.0/0</td></tr></table>"
      ],
      "text/plain": [
       "<IPython.core.display.HTML object>"
      ]
     },
     "metadata": {},
     "output_type": "display_data"
    }
   ],
   "source": [
    " from IPython.display import HTML, display\n",
    "\n",
    " data = [[\"<b>Type</b>\",\"<b>Protocol</b>\",\"<b>Port Range</b>\", \"<b>Source</b>\"],\n",
    "         [\"HTTPS\",\"TCP\",443,\"0.0.0.0/0\"],\n",
    "         [\"HTTP\",\"TCP\",80,\"0.0.0.0/0\"],\n",
    "         [\"SSH\",\"TCP\",22,\"0.0.0.0/0\"],\n",
    "         [\"Custom TCP Rule\", \"TCP\", 8888, \"0.0.0.0/0\"]\n",
    "         ]\n",
    "\n",
    " display(HTML(\n",
    "    '<table><tr>{}</tr></table>'.format(\n",
    "        '</tr><tr>'.join(\n",
    "            '<td>{}</td>'.format('</td><td>'.join(str(_) for _ in row)) for row in data)\n",
    "        )\n",
    " ))"
   ]
  },
  {
   "cell_type": "markdown",
   "metadata": {},
   "source": [
    "You can add these rules through the AWS console while setting up the instance as follows:"
   ]
  },
  {
   "cell_type": "code",
   "execution_count": 23,
   "metadata": {
    "collapsed": false
   },
   "outputs": [
    {
     "data": {
      "text/html": [
       "<img src=\"https://s3-us-west-2.amazonaws.com/mxnetjupytersetup/SecurityGroup.jpg\"/>"
      ],
      "text/plain": [
       "<IPython.core.display.Image object>"
      ]
     },
     "execution_count": 23,
     "metadata": {},
     "output_type": "execute_result"
    }
   ],
   "source": [
    "from IPython.display import Image\n",
    "from IPython.core.display import HTML \n",
    "Image(url=\"https://s3-us-west-2.amazonaws.com/mxnetjupytersetup/SecurityGroup.jpg\")"
   ]
  },
  {
   "cell_type": "markdown",
   "metadata": {},
   "source": [
    "Optionally, you can create the security group using the AWS CLI before hand and attach it to the instance. Keep in mind you need to update these commands to suit your own needs. In this tutorial we are using the latest Deep Learning AMI 2.0 (ami-dfb13ebf) in the us-west-2 region . The CLI commands for this are as follows:"
   ]
  },
  {
   "cell_type": "code",
   "execution_count": 24,
   "metadata": {
    "collapsed": false
   },
   "outputs": [
    {
     "ename": "SyntaxError",
     "evalue": "invalid syntax (<ipython-input-24-8e7dd40325bf>, line 2)",
     "output_type": "error",
     "traceback": [
      "\u001b[0;36m  File \u001b[0;32m\"<ipython-input-24-8e7dd40325bf>\"\u001b[0;36m, line \u001b[0;32m2\u001b[0m\n\u001b[0;31m    aws ec2 create-security-group --group-name JupyterSG --description \"JupyterSG\"\u001b[0m\n\u001b[0m          ^\u001b[0m\n\u001b[0;31mSyntaxError\u001b[0m\u001b[0;31m:\u001b[0m invalid syntax\n"
     ]
    }
   ],
   "source": [
    "#Setup the AWS CLI on your instance\n",
    "aws configure\n",
    "#Enter your access key and secret key \n",
    "\n",
    "# Create Security Group\n",
    "aws ec2 create-security-group --group-name JupyterSG --description \"JupyterSG\"\n",
    "#Add SG ruleset\n",
    "aws ec2 authorize-security-group-ingress --group-name JupyterSG --protocol tcp --port 8888 --cidr 0.0.0.0/0\n",
    "aws ec2 authorize-security-group-ingress --group-name JupyterSG --protocol tcp --port 22 --cidr 0.0.0.0/0\n",
    "aws ec2 authorize-security-group-ingress --group-name JupyterSG --protocol tcp --port 443 --cidr 0.0.0.0/0\n",
    "aws ec2 authorize-security-group-ingress --group-name JupyterSG --protocol tcp --port 80 --cidr 0.0.0.0/0\n",
    "\n",
    "#Launch AWS instance\n",
    "aws ec2 run-instances --image-id ami-dfb13ebf --count 1 --instance-type p2.xlarge --key-name <YOUR_KEY_NAME> --security-groups JupyterSG"
   ]
  },
  {
   "cell_type": "markdown",
   "metadata": {},
   "source": [
    "### Setup The Enviroment On Your New Instance"
   ]
  },
  {
   "cell_type": "markdown",
   "metadata": {},
   "source": [
    "SSH into the instance using the instances DNS name"
   ]
  },
  {
   "cell_type": "code",
   "execution_count": 4,
   "metadata": {
    "collapsed": true
   },
   "outputs": [],
   "source": [
    "ssh -i <PATH_TO_PEM> ec2-user@ec2-xx-xxx-xx-xxx.eu-west-1.compute.amazonaws.com"
   ]
  },
  {
   "cell_type": "markdown",
   "metadata": {},
   "source": [
    "Use the AMI's pre installed Anaconda3 enviroment managment tool to activate a default enviroment named \"root\" with the following command:"
   ]
  },
  {
   "cell_type": "code",
   "execution_count": 4,
   "metadata": {
    "collapsed": true
   },
   "outputs": [],
   "source": [
    "source src/anaconda3/bin/activate root"
   ]
  },
  {
   "cell_type": "markdown",
   "metadata": {},
   "source": [
    "Verify that your enviroment is using the correct binaries with the following commands:"
   ]
  },
  {
   "cell_type": "code",
   "execution_count": 20,
   "metadata": {
    "collapsed": false
   },
   "outputs": [
    {
     "ename": "SyntaxError",
     "evalue": "invalid syntax (<ipython-input-20-ad4e66884026>, line 1)",
     "output_type": "error",
     "traceback": [
      "\u001b[0;36m  File \u001b[0;32m\"<ipython-input-20-ad4e66884026>\"\u001b[0;36m, line \u001b[0;32m1\u001b[0m\n\u001b[0;31m    python -c \"import os; print(os.environ['_'])\"\u001b[0m\n\u001b[0m                                                ^\u001b[0m\n\u001b[0;31mSyntaxError\u001b[0m\u001b[0;31m:\u001b[0m invalid syntax\n"
     ]
    }
   ],
   "source": [
    "which python\n",
    "~/src/anaconda3/bin/python\n",
    "which  jupyter\n",
    "~/src/anaconda3/bin/jupyter"
   ]
  },
  {
   "cell_type": "markdown",
   "metadata": {},
   "source": [
    "If they are not pointing to the correct binaries change the PATH definition to the following:"
   ]
  },
  {
   "cell_type": "code",
   "execution_count": null,
   "metadata": {
    "collapsed": true
   },
   "outputs": [],
   "source": [
    "PATH=$HOME/src/anaconda3/bin:$PATH:$HOME/.local/bin:$HOME/bin\n",
    "export PATH"
   ]
  },
  {
   "cell_type": "markdown",
   "metadata": {},
   "source": [
    "### Configure The Jupyter Server To Use HTTPS\n",
    "\n",
    "Now that you have your AMI launched and your enviroment setup correctly we can begin to generate the configuration for Jupyter. In this tutorial we will setup the configuration using HTTPS. If you want to use regular HTTP you can skip the following steps."
   ]
  },
  {
   "cell_type": "code",
   "execution_count": null,
   "metadata": {
    "collapsed": true
   },
   "outputs": [],
   "source": [
    "jupyter notebook --generate-config\n",
    "key=$(python -c \"from notebook.auth import passwd; print(passwd())\")"
   ]
  },
  {
   "cell_type": "markdown",
   "metadata": {},
   "source": [
    "Create a directory for your server certificates then use open SSL to self generate a certificate"
   ]
  },
  {
   "cell_type": "code",
   "execution_count": null,
   "metadata": {
    "collapsed": true
   },
   "outputs": [],
   "source": [
    "cd ~\n",
    "mkdir certs\n",
    "cd certs\n",
    "certdir=$(pwd)\n",
    "openssl req -x509 -nodes -days 365 -newkey rsa:1024 -keyout JupyterKey.key -out JupyterCert.pem"
   ]
  },
  {
   "cell_type": "code",
   "execution_count": null,
   "metadata": {
    "collapsed": true
   },
   "outputs": [],
   "source": [
    "cd ~\n",
    "sed -i \"1 a\\\n",
    "c = get_config()\\\\\n",
    "c.NotebookApp.certfile = u'$certdir/JupyterCert.pem'\\\\\n",
    "c.NotebookApp.keyfile = u'$certdir/JupyterKey.key'\\\\\n",
    "c.NotebookApp.ip = '*'\\\\\n",
    "c.NotebookApp.open_browser = False\\\\\n",
    "c.NotebookApp.password = u'$key'\\\\\n",
    "c.NotebookApp.port = 8888\" .jupyter/jupyter_notebook_config.py"
   ]
  },
  {
   "cell_type": "markdown",
   "metadata": {},
   "source": [
    "### Running the Jupyter Server\n",
    "\n",
    "Now that Jupyter is configured we can start the server. You can either start the server directly, or use session managment to make sure that the server keeps running even after you log out of the instance. The steps for configuring the server to run with the session managment tool screen are below:"
   ]
  },
  {
   "cell_type": "code",
   "execution_count": 25,
   "metadata": {
    "collapsed": false
   },
   "outputs": [
    {
     "ename": "SyntaxError",
     "evalue": "invalid syntax (<ipython-input-25-150a4bd6e5d4>, line 1)",
     "output_type": "error",
     "traceback": [
      "\u001b[0;36m  File \u001b[0;32m\"<ipython-input-25-150a4bd6e5d4>\"\u001b[0;36m, line \u001b[0;32m1\u001b[0m\n\u001b[0;31m    screen -S jupyter\u001b[0m\n\u001b[0m                    ^\u001b[0m\n\u001b[0;31mSyntaxError\u001b[0m\u001b[0;31m:\u001b[0m invalid syntax\n"
     ]
    }
   ],
   "source": [
    "screen -S jupyter\n",
    "mkdir notebook\n",
    "cd notebook\n",
    "jupyter notebook"
   ]
  },
  {
   "cell_type": "markdown",
   "metadata": {},
   "source": [
    "The above steps create a notebook directory and starts the jupter server with a default notebook."
   ]
  },
  {
   "cell_type": "markdown",
   "metadata": {
    "collapsed": false
   },
   "source": [
    "You can now access your Jupyter server in your browser with the following URL: https://your-instances-public-ip:8888\n"
   ]
  },
  {
   "cell_type": "code",
   "execution_count": 26,
   "metadata": {
    "collapsed": false
   },
   "outputs": [
    {
     "data": {
      "text/html": [
       "<img src=\"\thttps://s3-us-west-2.amazonaws.com/mxnetjupytersetup/JupyterNotebook.jpg\"/>"
      ],
      "text/plain": [
       "<IPython.core.display.Image object>"
      ]
     },
     "execution_count": 26,
     "metadata": {},
     "output_type": "execute_result"
    }
   ],
   "source": [
    "from IPython.display import Image\n",
    "from IPython.core.display import HTML \n",
    "Image(url=\"\thttps://s3-us-west-2.amazonaws.com/mxnetjupytersetup/JupyterNotebook.jpg\")"
   ]
  },
  {
   "cell_type": "markdown",
   "metadata": {},
   "source": [
    "Now that you have launched the AWS Deep Learning AMI, and configured Jupyter you can run the next tutorials for learning how to use Jupyter, and many other MXNet tutorials. Check out the MXnet GitHub Repo ( https://github.com/dmlc/mxnet-notebooks) for turiorals that make it easy to start using Jupyter for computer vision, natrual language processing, and recommendation systems. "
   ]
  },
  {
   "cell_type": "markdown",
   "metadata": {},
   "source": [
    "### Importing MXNet Notebooks\n",
    "The following steps teach you how to pull notebooks from GitHub and how to sync your newly create Jupyter notebooks to S3 for backup. You can run these AWS CLI commands from your instance command prompt in order to store and sync your notebook files to S3"
   ]
  },
  {
   "cell_type": "markdown",
   "metadata": {},
   "source": [
    "To get notebooks from GitHub on your instance us the command line run the following command from the Jupyter notebooks directory on your instance filesystem. "
   ]
  },
  {
   "cell_type": "code",
   "execution_count": null,
   "metadata": {
    "collapsed": true
   },
   "outputs": [],
   "source": [
    "cd /home/ec2-user/notebook\n",
    "git clone https://github.com/dmlc/mxnet-notebooks/"
   ]
  },
  {
   "cell_type": "markdown",
   "metadata": {},
   "source": [
    "The command above pulls the CNN MXNet tutorial from the AWS MXNet github repo and places it into Jupyter as a notebook you can use to train a CNN. You can now load this notebook from the Jupyter console."
   ]
  },
  {
   "cell_type": "code",
   "execution_count": null,
   "metadata": {
    "collapsed": true
   },
   "outputs": [],
   "source": [
    "from IPython.display import Image\n",
    "from IPython.core.display import HTML \n",
    "Image(url=\"https://s3-us-west-2.amazonaws.com/mxnetjupytersetup/MxNetNotebook.jpg\")"
   ]
  },
  {
   "cell_type": "markdown",
   "metadata": {},
   "source": [
    "In order to use the sample notebooks you need to make sure all the notebook dependencies are installed in your enviroment, the steps for doing so are below:"
   ]
  },
  {
   "cell_type": "code",
   "execution_count": null,
   "metadata": {
    "collapsed": true
   },
   "outputs": [],
   "source": [
    "sudo pip install -U scikit-learn\n",
    "cd /home/ec2-user/src/anaconda3/bin\n",
    "sudo ./conda install graphviz"
   ]
  },
  {
   "cell_type": "markdown",
   "metadata": {},
   "source": [
    "### Backing Up Notebooks to S3\n",
    "Backing your notebooks up to S3 is a good way to ensure that you do not lose all the hard work you have put into creating them. The steps for doing so are below:"
   ]
  },
  {
   "cell_type": "markdown",
   "metadata": {},
   "source": [
    "Create a S3 bucket in the aws console, then use the following commands to backup your notebooks to S3:"
   ]
  },
  {
   "cell_type": "code",
   "execution_count": null,
   "metadata": {
    "collapsed": true
   },
   "outputs": [],
   "source": [
    "aws s3 cp /home/ec2-user/notebook/ s3://BucketName --recursive"
   ]
  },
  {
   "cell_type": "markdown",
   "metadata": {},
   "source": [
    "You now have a backup of all of your notebooks in S3 that you can pull or push to from the AWS CLI on your AWS Deep Learning AMI instance."
   ]
  },
  {
   "cell_type": "code",
   "execution_count": null,
   "metadata": {
    "collapsed": true
   },
   "outputs": [],
   "source": []
  }
 ],
 "metadata": {
  "anaconda-cloud": {},
  "kernelspec": {
   "display_name": "Python [conda root]",
   "language": "python",
   "name": "conda-root-py"
  },
  "language_info": {
   "codemirror_mode": {
    "name": "ipython",
    "version": 3
   },
   "file_extension": ".py",
   "mimetype": "text/x-python",
   "name": "python",
   "nbconvert_exporter": "python",
   "pygments_lexer": "ipython3",
   "version": "3.5.2"
  }
 },
 "nbformat": 4,
 "nbformat_minor": 1
}
