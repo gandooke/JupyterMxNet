{
 "cells": [
  {
   "cell_type": "markdown",
   "metadata": {
    "run_control": {
     "frozen": false,
     "read_only": false
    }
   },
   "source": [
    "# Configuring Jupyter On Amazon Deep Learning AMI\n",
    "\n",
    "Using this tutorial you will be able to install and run Jupyter using https on a Amazon Deep Learning AMI. AWS now also offers a Ubuntu version of the Deep Learning AMI, most of the following steps are compatible with both versions of the Deep Learning AMI."
   ]
  },
  {
   "cell_type": "markdown",
   "metadata": {
    "run_control": {
     "frozen": false,
     "read_only": false
    }
   },
   "source": [
    "### Launch an EC2 Instance With The Amazon Deep Learning AMI"
   ]
  },
  {
   "cell_type": "markdown",
   "metadata": {
    "run_control": {
     "frozen": false,
     "read_only": false
    }
   },
   "source": [
    "1. Launch an instance using the Amazon Deep Learning AMI using the AWS console:\n",
    "https://aws.amazon.com/marketplace/pp/B01M0AXXQB\n",
    "2. Navigate to the AWS Management Console:\n",
    "\n",
    "2. Or Launch the Amazon Deep Learning AMI from a CloudFormation Script:\n",
    "https://github.com/awslabs/deeplearning-cfn/blob/master/cfn-template/deeplearning.template\n",
    "\n",
    "3. Choose an instance type sutiable for deep learning. Common choices are GPU backed instances such as g2 and p2 instance types, both of which have dedicated GPU's. "
   ]
  },
  {
   "cell_type": "code",
   "execution_count": 6,
   "metadata": {
    "collapsed": false,
    "run_control": {
     "frozen": false,
     "read_only": false
    }
   },
   "outputs": [
    {
     "data": {
      "text/html": [
       "<img src=\"https://s3-us-west-2.amazonaws.com/mxnetjupytersetup/Untitled.jpg\"/>"
      ],
      "text/plain": [
       "<IPython.core.display.Image object>"
      ]
     },
     "execution_count": 6,
     "metadata": {},
     "output_type": "execute_result"
    }
   ],
   "source": [
    "from IPython.display import Image\n",
    "from IPython.core.display import HTML \n",
    "Image(url=\"https://s3-us-west-2.amazonaws.com/mxnetjupytersetup/Untitled.jpg\")"
   ]
  },
  {
   "cell_type": "markdown",
   "metadata": {
    "run_control": {
     "frozen": false,
     "read_only": false
    }
   },
   "source": [
    "Next, we are going to create a security group. This security group contains some specific rules to allow you to access the Jupyter server from your browser with HTTP/HTTPS. A sample ruleset used for this tutorial is below. However, for an enterprise grade enviroment, you should probably secure the source ip's to only known and trusted ips."
   ]
  },
  {
   "cell_type": "code",
   "execution_count": 7,
   "metadata": {
    "collapsed": false,
    "run_control": {
     "frozen": false,
     "read_only": false
    }
   },
   "outputs": [
    {
     "data": {
      "text/html": [
       "<table><tr><td><b>Type</b></td><td><b>Protocol</b></td><td><b>Port Range</b></td><td><b>Source</b></td></tr><tr><td>HTTPS</td><td>TCP</td><td>443</td><td>0.0.0.0/0</td></tr><tr><td>HTTP</td><td>TCP</td><td>80</td><td>0.0.0.0/0</td></tr><tr><td>SSH</td><td>TCP</td><td>22</td><td>0.0.0.0/0</td></tr><tr><td>Custom TCP Rule</td><td>TCP</td><td>8888</td><td>0.0.0.0/0</td></tr></table>"
      ],
      "text/plain": [
       "<IPython.core.display.HTML object>"
      ]
     },
     "metadata": {},
     "output_type": "display_data"
    }
   ],
   "source": [
    " from IPython.display import HTML, display\n",
    "\n",
    " data = [[\"<b>Type</b>\",\"<b>Protocol</b>\",\"<b>Port Range</b>\", \"<b>Source</b>\"],\n",
    "         [\"HTTPS\",\"TCP\",443,\"0.0.0.0/0\"],\n",
    "         [\"HTTP\",\"TCP\",80,\"0.0.0.0/0\"],\n",
    "         [\"SSH\",\"TCP\",22,\"0.0.0.0/0\"],\n",
    "         [\"Custom TCP Rule\", \"TCP\", 8888, \"0.0.0.0/0\"]\n",
    "         ]\n",
    "\n",
    " display(HTML(\n",
    "    '<table><tr>{}</tr></table>'.format(\n",
    "        '</tr><tr>'.join(\n",
    "            '<td>{}</td>'.format('</td><td>'.join(str(_) for _ in row)) for row in data)\n",
    "        )\n",
    " ))"
   ]
  },
  {
   "cell_type": "markdown",
   "metadata": {
    "run_control": {
     "frozen": false,
     "read_only": false
    }
   },
   "source": [
    "You can add these rules through the AWS console while setting up the instance as follows:"
   ]
  },
  {
   "cell_type": "code",
   "execution_count": 8,
   "metadata": {
    "collapsed": false,
    "run_control": {
     "frozen": false,
     "read_only": false
    }
   },
   "outputs": [
    {
     "data": {
      "text/html": [
       "<img src=\"https://s3-us-west-2.amazonaws.com/mxnetjupytersetup/SecurityGroup.jpg\"/>"
      ],
      "text/plain": [
       "<IPython.core.display.Image object>"
      ]
     },
     "execution_count": 8,
     "metadata": {},
     "output_type": "execute_result"
    }
   ],
   "source": [
    "from IPython.display import Image\n",
    "from IPython.core.display import HTML \n",
    "Image(url=\"https://s3-us-west-2.amazonaws.com/mxnetjupytersetup/SecurityGroup.jpg\")"
   ]
  },
  {
   "cell_type": "markdown",
   "metadata": {
    "run_control": {
     "frozen": false,
     "read_only": false
    }
   },
   "source": [
    "Optionally, you can create the security group using the AWS CLI beforehand and attach it to the instance. Keep in mind you need to update these commands to suit your own needs. In this tutorial we are using the latest Deep Learning AMI 2.0 (ami-dfb13ebf) in the us-west-2 region. The CLI commands for this are as follows:"
   ]
  },
  {
   "cell_type": "code",
   "execution_count": null,
   "metadata": {
    "collapsed": false,
    "run_control": {
     "frozen": true,
     "read_only": true
    }
   },
   "outputs": [],
   "source": [
    "\n",
    "#Setup the AWS CLI on your instance\n",
    "aws configure\n",
    "#Enter your access key and secret key \n",
    "\n",
    "# Create Security Group\n",
    "aws ec2 create-security-group --group-name JupyterSG --description \"JupyterSG\"\n",
    "#Add SG ruleset\n",
    "aws ec2 authorize-security-group-ingress --group-name JupyterSG --protocol tcp --port 8888 --cidr 0.0.0.0/0\n",
    "aws ec2 authorize-security-group-ingress --group-name JupyterSG --protocol tcp --port 22 --cidr 0.0.0.0/0\n",
    "aws ec2 authorize-security-group-ingress --group-name JupyterSG --protocol tcp --port 443 --cidr 0.0.0.0/0\n",
    "aws ec2 authorize-security-group-ingress --group-name JupyterSG --protocol tcp --port 80 --cidr 0.0.0.0/0\n",
    "\n",
    "#Launch AWS instance\n",
    "aws ec2 run-instances --image-id ami-dfb13ebf --count 1 --instance-type p2.xlarge --key-name <YOUR_KEY_NAME> --security-groups JupyterSG"
   ]
  },
  {
   "cell_type": "markdown",
   "metadata": {
    "run_control": {
     "frozen": false,
     "read_only": false
    }
   },
   "source": [
    "### Setup The Environment On Your New Instance"
   ]
  },
  {
   "cell_type": "markdown",
   "metadata": {
    "run_control": {
     "frozen": false,
     "read_only": false
    }
   },
   "source": [
    "SSH into the instance using the instances DNS name"
   ]
  },
  {
   "cell_type": "code",
   "execution_count": null,
   "metadata": {
    "collapsed": true,
    "run_control": {
     "frozen": true,
     "read_only": true
    }
   },
   "outputs": [],
   "source": [
    "ssh -i <PATH_TO_PEM> ec2-user@ec2-xx-xxx-xx-xxx.eu-west-1.compute.amazonaws.com"
   ]
  },
  {
   "cell_type": "markdown",
   "metadata": {
    "run_control": {
     "frozen": false,
     "read_only": false
    }
   },
   "source": [
    "Use the AMI's pre installed Anaconda3 environment managment tool to activate a default environment named \"root\" with the following command:"
   ]
  },
  {
   "cell_type": "code",
   "execution_count": null,
   "metadata": {
    "collapsed": true,
    "run_control": {
     "frozen": true,
     "read_only": true
    }
   },
   "outputs": [],
   "source": [
    "source src/anaconda3/bin/activate root"
   ]
  },
  {
   "cell_type": "markdown",
   "metadata": {
    "run_control": {
     "frozen": false,
     "read_only": false
    }
   },
   "source": [
    "Verify that your environment is using the correct binaries with the following commands:"
   ]
  },
  {
   "cell_type": "code",
   "execution_count": null,
   "metadata": {
    "collapsed": false,
    "run_control": {
     "frozen": true,
     "read_only": true
    }
   },
   "outputs": [],
   "source": [
    "which python\n",
    "~/src/anaconda3/bin/python\n",
    "which  jupyter\n",
    "~/src/anaconda3/bin/jupyter"
   ]
  },
  {
   "cell_type": "markdown",
   "metadata": {
    "run_control": {
     "frozen": false,
     "read_only": false
    }
   },
   "source": [
    "If they are not pointing to the correct binaries change the PATH definition to the following:"
   ]
  },
  {
   "cell_type": "code",
   "execution_count": null,
   "metadata": {
    "collapsed": true,
    "run_control": {
     "frozen": true,
     "read_only": true
    }
   },
   "outputs": [],
   "source": [
    "PATH=$HOME/src/anaconda3/bin:$PATH:$HOME/.local/bin:$HOME/bin\n",
    "export PATH"
   ]
  },
  {
   "cell_type": "markdown",
   "metadata": {
    "run_control": {
     "frozen": false,
     "read_only": false
    }
   },
   "source": [
    "### Configure The Jupyter Server To Use HTTPS\n",
    "\n",
    "Now that you have your AMI launched and your environment setup correctly we can begin to generate the configuration for Jupyter. In this tutorial, we will setup the configuration using HTTPS. If you want to use regular HTTP you can skip the following steps."
   ]
  },
  {
   "cell_type": "code",
   "execution_count": null,
   "metadata": {
    "collapsed": true,
    "run_control": {
     "frozen": true,
     "read_only": true
    }
   },
   "outputs": [],
   "source": [
    "jupyter notebook --generate-config\n",
    "key=$(python -c \"from notebook.auth import passwd; print(passwd())\")"
   ]
  },
  {
   "cell_type": "markdown",
   "metadata": {
    "run_control": {
     "frozen": false,
     "read_only": false
    }
   },
   "source": [
    "Create a directory for your server certificates then use OpenSSL to self-sign a certificate"
   ]
  },
  {
   "cell_type": "code",
   "execution_count": null,
   "metadata": {
    "collapsed": true,
    "run_control": {
     "frozen": true,
     "read_only": true
    }
   },
   "outputs": [],
   "source": [
    "cd ~\n",
    "mkdir certs\n",
    "cd certs\n",
    "certdir=$(pwd)\n",
    "openssl req -x509 -nodes -days 365 -newkey rsa:1024 -keyout JupyterKey.key -out JupyterCert.pem"
   ]
  },
  {
   "cell_type": "code",
   "execution_count": null,
   "metadata": {
    "collapsed": true,
    "run_control": {
     "frozen": true,
     "read_only": true
    }
   },
   "outputs": [],
   "source": [
    "cd ~\n",
    "sed -i \"1 a\\\n",
    "c = get_config()\\\\\n",
    "c.NotebookApp.certfile = u'$certdir/JupyterCert.pem'\\\\\n",
    "c.NotebookApp.keyfile = u'$certdir/JupyterKey.key'\\\\\n",
    "c.NotebookApp.ip = '*'\\\\\n",
    "c.NotebookApp.open_browser = False\\\\\n",
    "c.NotebookApp.password = u'$key'\\\\\n",
    "c.NotebookApp.port = 8888\" .jupyter/jupyter_notebook_config.py"
   ]
  },
  {
   "cell_type": "markdown",
   "metadata": {
    "run_control": {
     "frozen": false,
     "read_only": false
    }
   },
   "source": [
    "### Running The Jupyter Server\n",
    "\n",
    "Now that Jupyter is configured we can start the server. You can either start the server directly, or use session management to make sure that the server keeps running even after you log out of the instance. The steps for configuring the server to run with the session management tool screen are below:"
   ]
  },
  {
   "cell_type": "code",
   "execution_count": null,
   "metadata": {
    "collapsed": false,
    "run_control": {
     "frozen": true,
     "read_only": true
    }
   },
   "outputs": [],
   "source": [
    "screen -S jupyter\n",
    "mkdir notebook\n",
    "cd notebook\n",
    "jupyter notebook"
   ]
  },
  {
   "cell_type": "markdown",
   "metadata": {
    "run_control": {
     "frozen": false,
     "read_only": false
    }
   },
   "source": [
    "The above steps create a notebook directory and starts the Jupyter server with a default notebook."
   ]
  },
  {
   "cell_type": "markdown",
   "metadata": {
    "collapsed": false,
    "run_control": {
     "frozen": false,
     "read_only": false
    }
   },
   "source": [
    "You can now access your Jupyter server in your browser with the following URL: https://your-instances-public-ip:8888\n"
   ]
  },
  {
   "cell_type": "code",
   "execution_count": 9,
   "metadata": {
    "collapsed": false,
    "run_control": {
     "frozen": false,
     "read_only": false
    }
   },
   "outputs": [
    {
     "data": {
      "text/html": [
       "<img src=\"\thttps://s3-us-west-2.amazonaws.com/mxnetjupytersetup/JupyterNotebook.jpg\"/>"
      ],
      "text/plain": [
       "<IPython.core.display.Image object>"
      ]
     },
     "execution_count": 9,
     "metadata": {},
     "output_type": "execute_result"
    }
   ],
   "source": [
    "from IPython.display import Image\n",
    "from IPython.core.display import HTML \n",
    "Image(url=\"\thttps://s3-us-west-2.amazonaws.com/mxnetjupytersetup/JupyterNotebook.jpg\")"
   ]
  },
  {
   "cell_type": "markdown",
   "metadata": {
    "run_control": {
     "frozen": false,
     "read_only": false
    }
   },
   "source": [
    "Now that you have launched the AWS Deep Learning AMI, and configured Jupyter you can run the next tutorials for learning how to use Jupyter, and many other MXNet tutorials. Check out the MXNet GitHub Repo ( https://github.com/dmlc/mxnet-notebooks) for tutorials that make it easy to start using Jupyter for computer vision, natural language processing, and recommendation systems. "
   ]
  },
  {
   "cell_type": "markdown",
   "metadata": {
    "run_control": {
     "frozen": false,
     "read_only": false
    }
   },
   "source": [
    "### Importing MXNet Notebooks\n",
    "The following steps teach you how to pull notebooks from GitHub and how to sync your newly create Jupyter notebooks to S3 for backup. You can run these AWS CLI commands from your instance command prompt in order to store and sync your notebook files to S3"
   ]
  },
  {
   "cell_type": "markdown",
   "metadata": {
    "run_control": {
     "frozen": false,
     "read_only": false
    }
   },
   "source": [
    "To get notebooks from GitHub on your instance us the command line run the following command from the Jupyter notebooks directory on your instance filesystem. "
   ]
  },
  {
   "cell_type": "code",
   "execution_count": null,
   "metadata": {
    "collapsed": true,
    "run_control": {
     "frozen": true,
     "read_only": true
    }
   },
   "outputs": [],
   "source": [
    "cd /home/ec2-user/notebook\n",
    "git clone https://github.com/dmlc/mxnet-notebooks/"
   ]
  },
  {
   "cell_type": "markdown",
   "metadata": {
    "run_control": {
     "frozen": false,
     "read_only": false
    }
   },
   "source": [
    "The command above pulls the CNN MXNet tutorial from the AWS MXNet github repo and places it into Jupyter as a notebook you can use to train a CNN. You can now load this notebook from the Jupyter console."
   ]
  },
  {
   "cell_type": "code",
   "execution_count": 10,
   "metadata": {
    "collapsed": false,
    "run_control": {
     "frozen": false,
     "read_only": false
    }
   },
   "outputs": [
    {
     "data": {
      "text/html": [
       "<img src=\"https://s3-us-west-2.amazonaws.com/mxnetjupytersetup/MxNetNotebook.jpg\"/>"
      ],
      "text/plain": [
       "<IPython.core.display.Image object>"
      ]
     },
     "execution_count": 10,
     "metadata": {},
     "output_type": "execute_result"
    }
   ],
   "source": [
    "from IPython.display import Image\n",
    "from IPython.core.display import HTML \n",
    "Image(url=\"https://s3-us-west-2.amazonaws.com/mxnetjupytersetup/MxNetNotebook.jpg\")"
   ]
  },
  {
   "cell_type": "markdown",
   "metadata": {
    "run_control": {
     "frozen": false,
     "read_only": false
    }
   },
   "source": [
    "In order to use the sample notebooks you need to make sure all the notebook dependencies are installed in your enviroment, the steps for doing so are below:"
   ]
  },
  {
   "cell_type": "code",
   "execution_count": null,
   "metadata": {
    "collapsed": true,
    "run_control": {
     "frozen": true,
     "read_only": true
    }
   },
   "outputs": [],
   "source": [
    "sudo pip install -U scikit-learn\n",
    "cd /home/ec2-user/src/anaconda3/bin\n",
    "sudo ./conda install graphviz"
   ]
  },
  {
   "cell_type": "markdown",
   "metadata": {},
   "source": [
    "MXNet comes pre-installed on the AWS Deep Learning AMI, now by going into the mxnet-notebooks folder you can run all sort of deep learning tutorials, from handwritting reccognition to a LSTM neural network. Check them out and have fun!"
   ]
  },
  {
   "cell_type": "markdown",
   "metadata": {
    "run_control": {
     "frozen": false,
     "read_only": false
    }
   },
   "source": [
    "### Backing Up Notebooks to S3\n",
    "Backing your notebooks up to S3 is a good way to ensure that you do not lose all the hard work you have put into creating them. The steps for doing so are below:"
   ]
  },
  {
   "cell_type": "markdown",
   "metadata": {
    "run_control": {
     "frozen": false,
     "read_only": false
    }
   },
   "source": [
    "Create a S3 bucket in the AWS console, then use the following commands to backup your notebooks to S3:"
   ]
  },
  {
   "cell_type": "code",
   "execution_count": null,
   "metadata": {
    "collapsed": true,
    "run_control": {
     "frozen": true,
     "read_only": true
    }
   },
   "outputs": [],
   "source": [
    "aws s3 cp /home/ec2-user/notebook/ s3://BucketName --recursive"
   ]
  },
  {
   "cell_type": "markdown",
   "metadata": {
    "run_control": {
     "frozen": false,
     "read_only": false
    }
   },
   "source": [
    "You now have a backup of all of your notebooks in S3 that you can pull or push to from the AWS CLI on your AWS Deep Learning AMI instance."
   ]
  },
  {
   "cell_type": "markdown",
   "metadata": {
    "run_control": {
     "frozen": false,
     "read_only": false
    }
   },
   "source": [
    "### Embedding Files in a Notebook\n",
    "Throughout the course of this tutorial we have added images into the notebook through python code. There are many ways to add files into a notebook. Check out the python code above the images in this post and try and post your own image inside of a notebook using the format. Below we will discuss serveral other file types you can add to your notebooks."
   ]
  },
  {
   "cell_type": "markdown",
   "metadata": {
    "run_control": {
     "frozen": false,
     "read_only": false
    }
   },
   "source": [
    "Below we import two diffrent auto files that have been converted from text to speech by AWS Polly into our Jupyter notebook and allow the user of the notebook to play them with an Ipython.display.Audio object. This is a simple use case but it can be very handy later on for deep learning tasks that require audio, for example, natural language processing engines. "
   ]
  },
  {
   "cell_type": "code",
   "execution_count": 21,
   "metadata": {
    "collapsed": false,
    "run_control": {
     "frozen": false,
     "read_only": false
    }
   },
   "outputs": [
    {
     "data": {
      "text/html": [
       "\n",
       "                <audio controls=\"controls\" >\n",
       "                    <source src=\"https://s3.amazonaws.com/bardiapollylambda/35591d25a681531497481c12aed2a7c283c42773_0.mp3\" type=\"audio/mpeg\" />\n",
       "                    Your browser does not support the audio element.\n",
       "                </audio>\n",
       "              "
      ],
      "text/plain": [
       "<IPython.lib.display.Audio object>"
      ]
     },
     "metadata": {},
     "output_type": "display_data"
    },
    {
     "data": {
      "text/html": [
       "\n",
       "                <audio controls=\"controls\" >\n",
       "                    <source src=\"https://s3.amazonaws.com/bardiapollylambda/5feea3d3b888aff62974d5f30f1d7142b6c96e49_0.mp3\" type=\"audio/mpeg\" />\n",
       "                    Your browser does not support the audio element.\n",
       "                </audio>\n",
       "              "
      ],
      "text/plain": [
       "<IPython.lib.display.Audio object>"
      ]
     },
     "metadata": {},
     "output_type": "display_data"
    }
   ],
   "source": [
    "import IPython\n",
    "IPython.display.display(IPython.display.Audio(url=\"https://s3.amazonaws.com/bardiapollylambda/35591d25a681531497481c12aed2a7c283c42773_0.mp3\"))\n",
    "IPython.display.display(IPython.display.Audio(url=\"https://s3.amazonaws.com/bardiapollylambda/5feea3d3b888aff62974d5f30f1d7142b6c96e49_0.mp3\"))"
   ]
  },
  {
   "cell_type": "markdown",
   "metadata": {
    "collapsed": true,
    "run_control": {
     "frozen": false,
     "read_only": false
    }
   },
   "source": [
    "After going through this tutorial you should be able to stand up a fully functional Jupyter notebook on the AWS Deep Learning AMI and use MXNet to run and create your own deep learning architectures. A few sample excercises to test your knowlage are as follows:\n",
    "* Deploy an AWS Deep Learning instance\n",
    "* Setup Jupyter on your own AWS Deep Learning instance \n",
    "* Create your first Jupyter notebook\n",
    "* Import an image from S3 into your notebook\n",
    "* Import an audio file from S3 into your notebook\n",
    "\n",
    "Work Hard, Have Fun, and, Make History!"
   ]
  },
  {
   "cell_type": "code",
   "execution_count": null,
   "metadata": {
    "collapsed": true
   },
   "outputs": [],
   "source": []
  }
 ],
 "metadata": {
  "anaconda-cloud": {},
  "kernelspec": {
   "display_name": "Python [conda root]",
   "language": "python",
   "name": "conda-root-py"
  },
  "language_info": {
   "codemirror_mode": {
    "name": "ipython",
    "version": 3
   },
   "file_extension": ".py",
   "mimetype": "text/x-python",
   "name": "python",
   "nbconvert_exporter": "python",
   "pygments_lexer": "ipython3",
   "version": "3.5.2"
  }
 },
 "nbformat": 4,
 "nbformat_minor": 1
}
